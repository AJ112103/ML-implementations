{
 "cells": [
  {
   "cell_type": "code",
   "execution_count": 2,
   "id": "25135417-6942-44ff-a2c8-e93b6a79760f",
   "metadata": {},
   "outputs": [],
   "source": [
    "import torch"
   ]
  },
  {
   "cell_type": "code",
   "execution_count": 5,
   "id": "627a10e3-447e-4b5f-9e1b-7d7988e1d34a",
   "metadata": {},
   "outputs": [
    {
     "data": {
      "text/plain": [
       "tensor([ 0.,  1.,  2.,  3.,  4.,  5.,  6.,  7.,  8.,  9., 10., 11.])"
      ]
     },
     "execution_count": 5,
     "metadata": {},
     "output_type": "execute_result"
    }
   ],
   "source": [
    "x = torch.arange(12, dtype=torch.float32)\n",
    "x"
   ]
  },
  {
   "cell_type": "code",
   "execution_count": 10,
   "id": "36f5d268-1fd2-482c-bf94-5a160ea04f60",
   "metadata": {},
   "outputs": [
    {
     "data": {
      "text/plain": [
       "tensor([2., 3., 4., 5., 6., 7., 8., 9.])"
      ]
     },
     "execution_count": 10,
     "metadata": {},
     "output_type": "execute_result"
    }
   ],
   "source": [
    "y = torch.arange(2, 10, dtype=torch.float32)\n",
    "y"
   ]
  },
  {
   "cell_type": "code",
   "execution_count": 13,
   "id": "643271d0-f2c3-40f4-b3ca-2cade9ec02a3",
   "metadata": {},
   "outputs": [
    {
     "data": {
      "text/plain": [
       "8"
      ]
     },
     "execution_count": 13,
     "metadata": {},
     "output_type": "execute_result"
    }
   ],
   "source": [
    "y.numel()"
   ]
  },
  {
   "cell_type": "code",
   "execution_count": 14,
   "id": "5964a096-b943-4080-997c-9e6450c6e988",
   "metadata": {},
   "outputs": [
    {
     "data": {
      "text/plain": [
       "12"
      ]
     },
     "execution_count": 14,
     "metadata": {},
     "output_type": "execute_result"
    }
   ],
   "source": [
    "x.numel()"
   ]
  },
  {
   "cell_type": "code",
   "execution_count": 17,
   "id": "d46a550a-c732-488e-82d1-c1de28146966",
   "metadata": {},
   "outputs": [
    {
     "data": {
      "text/plain": [
       "tensor([[[[[ 0.,  1.],\n",
       "           [ 2.,  3.],\n",
       "           [ 4.,  5.],\n",
       "           [ 6.,  7.],\n",
       "           [ 8.,  9.],\n",
       "           [10., 11.]]]]])"
      ]
     },
     "execution_count": 17,
     "metadata": {},
     "output_type": "execute_result"
    }
   ],
   "source": [
    "X = x.reshape(1, 1, 1, 6, 2)\n",
    "X"
   ]
  },
  {
   "cell_type": "code",
   "execution_count": 22,
   "id": "d37278f7-8494-401b-a00c-6c9ce3c1226f",
   "metadata": {},
   "outputs": [
    {
     "data": {
      "text/plain": [
       "tensor([[[2., 3.],\n",
       "         [4., 5.]],\n",
       "\n",
       "        [[6., 7.],\n",
       "         [8., 9.]]])"
      ]
     },
     "execution_count": 22,
     "metadata": {},
     "output_type": "execute_result"
    }
   ],
   "source": [
    "Y = y.reshape(2, 2, 2)\n",
    "Y"
   ]
  },
  {
   "cell_type": "code",
   "execution_count": 23,
   "id": "a3d8c132-ebea-4782-983d-ff004784f957",
   "metadata": {},
   "outputs": [
    {
     "data": {
      "text/plain": [
       "tensor([[2., 3., 4., 5.],\n",
       "        [6., 7., 8., 9.]])"
      ]
     },
     "execution_count": 23,
     "metadata": {},
     "output_type": "execute_result"
    }
   ],
   "source": [
    "Y1 = y.reshape(-1, 4)\n",
    "Y1"
   ]
  },
  {
   "cell_type": "code",
   "execution_count": 25,
   "id": "c977f6e8-61ab-45c9-8b6e-f1496b5576b0",
   "metadata": {},
   "outputs": [
    {
     "data": {
      "text/plain": [
       "tensor([[[[0., 0.],\n",
       "          [0., 0.],\n",
       "          [0., 0.],\n",
       "          [0., 0.],\n",
       "          [0., 0.]],\n",
       "\n",
       "         [[0., 0.],\n",
       "          [0., 0.],\n",
       "          [0., 0.],\n",
       "          [0., 0.],\n",
       "          [0., 0.]],\n",
       "\n",
       "         [[0., 0.],\n",
       "          [0., 0.],\n",
       "          [0., 0.],\n",
       "          [0., 0.],\n",
       "          [0., 0.]]],\n",
       "\n",
       "\n",
       "        [[[0., 0.],\n",
       "          [0., 0.],\n",
       "          [0., 0.],\n",
       "          [0., 0.],\n",
       "          [0., 0.]],\n",
       "\n",
       "         [[0., 0.],\n",
       "          [0., 0.],\n",
       "          [0., 0.],\n",
       "          [0., 0.],\n",
       "          [0., 0.]],\n",
       "\n",
       "         [[0., 0.],\n",
       "          [0., 0.],\n",
       "          [0., 0.],\n",
       "          [0., 0.],\n",
       "          [0., 0.]]]])"
      ]
     },
     "execution_count": 25,
     "metadata": {},
     "output_type": "execute_result"
    }
   ],
   "source": [
    "torch.zeros((2, 3, 5, 2))"
   ]
  },
  {
   "cell_type": "code",
   "execution_count": 26,
   "id": "a60dd56c-7957-4074-9e40-b92cf3ee234c",
   "metadata": {},
   "outputs": [
    {
     "data": {
      "text/plain": [
       "tensor([[[1., 1.],\n",
       "         [1., 1.]],\n",
       "\n",
       "        [[1., 1.],\n",
       "         [1., 1.]]])"
      ]
     },
     "execution_count": 26,
     "metadata": {},
     "output_type": "execute_result"
    }
   ],
   "source": [
    "torch.ones((2, 2, 2))"
   ]
  },
  {
   "cell_type": "code",
   "execution_count": 27,
   "id": "335208ac-3753-45bd-a7fe-79a1982f63d7",
   "metadata": {},
   "outputs": [
    {
     "data": {
      "text/plain": [
       "tensor([[[ 0.6055, -1.2779, -0.8545],\n",
       "         [-0.0573, -1.1017,  0.1090],\n",
       "         [ 0.5854, -0.1029, -0.0905]],\n",
       "\n",
       "        [[ 1.4341,  0.6942, -0.2544],\n",
       "         [ 0.7426,  0.2490,  0.6212],\n",
       "         [ 0.8545, -1.3022, -1.1313]]])"
      ]
     },
     "execution_count": 27,
     "metadata": {},
     "output_type": "execute_result"
    }
   ],
   "source": [
    "torch.randn(2, 3, 3) #randn -> values from a standard Gaussian distribution with mean 0 and s.d. 1"
   ]
  },
  {
   "cell_type": "code",
   "execution_count": 29,
   "id": "004a7abd-efd9-4486-905e-b7a106cc75d9",
   "metadata": {},
   "outputs": [
    {
     "data": {
      "text/plain": [
       "tensor([ 9., 10., 11.])"
      ]
     },
     "execution_count": 29,
     "metadata": {},
     "output_type": "execute_result"
    }
   ],
   "source": [
    "X = x.reshape(4, 3)\n",
    "X[-1]"
   ]
  },
  {
   "cell_type": "code",
   "execution_count": 31,
   "id": "24b750e3-716a-4e8f-9727-580848da3550",
   "metadata": {},
   "outputs": [
    {
     "data": {
      "text/plain": [
       "tensor([[0., 1., 2.],\n",
       "        [3., 4., 5.],\n",
       "        [6., 7., 8.]])"
      ]
     },
     "execution_count": 31,
     "metadata": {},
     "output_type": "execute_result"
    }
   ],
   "source": [
    "X[0:3]"
   ]
  },
  {
   "cell_type": "code",
   "execution_count": 32,
   "id": "f5834626-7583-4909-963b-4c594ea69cb8",
   "metadata": {},
   "outputs": [
    {
     "data": {
      "text/plain": [
       "3"
      ]
     },
     "execution_count": 32,
     "metadata": {},
     "output_type": "execute_result"
    }
   ],
   "source": [
    "Y.ndim"
   ]
  },
  {
   "cell_type": "code",
   "execution_count": 34,
   "id": "d4184d79-fd4b-41c3-b755-a33c70aa49a9",
   "metadata": {},
   "outputs": [
    {
     "data": {
      "text/plain": [
       "2"
      ]
     },
     "execution_count": 34,
     "metadata": {},
     "output_type": "execute_result"
    }
   ],
   "source": [
    "Y = y.reshape(4, 2)\n",
    "Y.ndim"
   ]
  },
  {
   "cell_type": "code",
   "execution_count": 35,
   "id": "f184e7ca-7305-417d-a716-443234acad9c",
   "metadata": {},
   "outputs": [
    {
     "data": {
      "text/plain": [
       "tensor([[2., 3.],\n",
       "        [4., 5.],\n",
       "        [6., 7.],\n",
       "        [8., 9.]])"
      ]
     },
     "execution_count": 35,
     "metadata": {},
     "output_type": "execute_result"
    }
   ],
   "source": [
    "Y"
   ]
  },
  {
   "cell_type": "code",
   "execution_count": 36,
   "id": "47382152-3546-4430-97ec-52c548da842c",
   "metadata": {},
   "outputs": [
    {
     "data": {
      "text/plain": [
       "tensor([[ 0.,  1.,  2.],\n",
       "        [ 3.,  4.,  5.],\n",
       "        [ 6.,  7.,  8.],\n",
       "        [ 9., 10., 11.]])"
      ]
     },
     "execution_count": 36,
     "metadata": {},
     "output_type": "execute_result"
    }
   ],
   "source": [
    "X"
   ]
  },
  {
   "cell_type": "code",
   "execution_count": 37,
   "id": "230cf7ae-07a7-4946-b526-a32ec8deb56e",
   "metadata": {},
   "outputs": [],
   "source": [
    "X[1, 2] = 17"
   ]
  },
  {
   "cell_type": "code",
   "execution_count": 39,
   "id": "806ef323-d9d6-4dfa-ba39-68eae66b8e61",
   "metadata": {},
   "outputs": [
    {
     "data": {
      "text/plain": [
       "tensor([[ 0.,  1.,  2.],\n",
       "        [ 3.,  4., 17.],\n",
       "        [ 6.,  7.,  8.],\n",
       "        [ 9., 10., 11.]])"
      ]
     },
     "execution_count": 39,
     "metadata": {},
     "output_type": "execute_result"
    }
   ],
   "source": [
    "X"
   ]
  },
  {
   "cell_type": "code",
   "execution_count": 40,
   "id": "2bd8324e-00b2-412e-b416-617e16a34d0f",
   "metadata": {},
   "outputs": [],
   "source": [
    "X[:1, 1] = 10"
   ]
  },
  {
   "cell_type": "code",
   "execution_count": 41,
   "id": "984629ff-005c-456b-bcfe-6b6717e6c3bc",
   "metadata": {},
   "outputs": [
    {
     "data": {
      "text/plain": [
       "tensor([[ 0., 10.,  2.],\n",
       "        [ 3.,  4., 17.],\n",
       "        [ 6.,  7.,  8.],\n",
       "        [ 9., 10., 11.]])"
      ]
     },
     "execution_count": 41,
     "metadata": {},
     "output_type": "execute_result"
    }
   ],
   "source": [
    "X"
   ]
  },
  {
   "cell_type": "code",
   "execution_count": 42,
   "id": "e6bc547f-8541-46d3-8d16-333250069021",
   "metadata": {},
   "outputs": [],
   "source": [
    "X[:4, 2] = 7"
   ]
  },
  {
   "cell_type": "code",
   "execution_count": 43,
   "id": "f1a388fe-0b4e-4de3-92c6-d41e253a13d8",
   "metadata": {},
   "outputs": [
    {
     "data": {
      "text/plain": [
       "tensor([[ 0., 10.,  7.],\n",
       "        [ 3.,  4.,  7.],\n",
       "        [ 6.,  7.,  7.],\n",
       "        [ 9., 10.,  7.]])"
      ]
     },
     "execution_count": 43,
     "metadata": {},
     "output_type": "execute_result"
    }
   ],
   "source": [
    "X"
   ]
  },
  {
   "cell_type": "code",
   "execution_count": 44,
   "id": "7aea33c8-1201-4b6a-9e09-31dbdcc2873e",
   "metadata": {},
   "outputs": [
    {
     "data": {
      "text/plain": [
       "tensor([[1.0000e+00, 2.2026e+04, 1.0966e+03],\n",
       "        [2.0086e+01, 5.4598e+01, 1.0966e+03],\n",
       "        [4.0343e+02, 1.0966e+03, 1.0966e+03],\n",
       "        [8.1031e+03, 2.2026e+04, 1.0966e+03]])"
      ]
     },
     "execution_count": 44,
     "metadata": {},
     "output_type": "execute_result"
    }
   ],
   "source": [
    "torch.exp(X)"
   ]
  },
  {
   "cell_type": "code",
   "execution_count": null,
   "id": "6c8620c4-80ea-4dc4-bd30-41f5ea4377d8",
   "metadata": {},
   "outputs": [],
   "source": []
  }
 ],
 "metadata": {
  "kernelspec": {
   "display_name": "Python (ml-projects)",
   "language": "python",
   "name": "ml-projects"
  },
  "language_info": {
   "codemirror_mode": {
    "name": "ipython",
    "version": 3
   },
   "file_extension": ".py",
   "mimetype": "text/x-python",
   "name": "python",
   "nbconvert_exporter": "python",
   "pygments_lexer": "ipython3",
   "version": "3.9.21"
  }
 },
 "nbformat": 4,
 "nbformat_minor": 5
}
