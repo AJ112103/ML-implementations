{
 "cells": [
  {
   "cell_type": "code",
   "execution_count": 8,
   "id": "66c1efba-586f-40ae-889c-868b20df5ce5",
   "metadata": {},
   "outputs": [
    {
     "name": "stdout",
     "output_type": "stream",
     "text": [
      "2\n",
      "7\n",
      "9\n"
     ]
    }
   ],
   "source": [
    "import numpy as np\n",
    "\n",
    "x = np.array([[1, 2, 3,], [4, 5, 6], [7, 8, 9]])\n",
    "\n",
    "print(x.ndim)\n",
    "print(x[2, 0])\n",
    "print(x.size)"
   ]
  },
  {
   "cell_type": "code",
   "execution_count": 13,
   "id": "ea53cff5-a9de-4c60-b581-6cdc64458a8f",
   "metadata": {},
   "outputs": [
    {
     "name": "stdout",
     "output_type": "stream",
     "text": [
      "3\n",
      "10\n"
     ]
    }
   ],
   "source": [
    "y = np.array([\n",
    "    [\n",
    "        [2, 4, 6], \n",
    "        [5, 9, 12]\n",
    "    ],\n",
    "    [\n",
    "        [3, 4, 8], \n",
    "        [1, 10, 7]\n",
    "    ]\n",
    "])\n",
    "print(y.ndim)\n",
    "print(y[1, 1, 1])\n",
    "print(y[0, 1, 1])"
   ]
  },
  {
   "cell_type": "code",
   "execution_count": null,
   "id": "3a5b7c67-c3da-4fba-aa12-c36a936f81f1",
   "metadata": {},
   "outputs": [],
   "source": []
  }
 ],
 "metadata": {
  "kernelspec": {
   "display_name": "Python (ml-projects)",
   "language": "python",
   "name": "ml-projects"
  },
  "language_info": {
   "codemirror_mode": {
    "name": "ipython",
    "version": 3
   },
   "file_extension": ".py",
   "mimetype": "text/x-python",
   "name": "python",
   "nbconvert_exporter": "python",
   "pygments_lexer": "ipython3",
   "version": "3.9.21"
  }
 },
 "nbformat": 4,
 "nbformat_minor": 5
}
