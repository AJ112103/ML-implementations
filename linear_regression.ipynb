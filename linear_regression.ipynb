{
  "cells": [
    {
      "cell_type": "markdown",
      "metadata": {
        "id": "view-in-github",
        "colab_type": "text"
      },
      "source": [
        "<a href=\"https://colab.research.google.com/github/AJ112103/ML-implementations/blob/main/linear_regression.ipynb\" target=\"_parent\"><img src=\"https://colab.research.google.com/assets/colab-badge.svg\" alt=\"Open In Colab\"/></a>"
      ]
    },
    {
      "cell_type": "code",
      "execution_count": null,
      "metadata": {
        "id": "fjAwoTBSXrPT"
      },
      "outputs": [],
      "source": [
        "import torch\n",
        "import torch.nn as nn\n",
        "import torch.optim as optim\n",
        "import numpy as np\n",
        "import matplotlib.pyplot as plt"
      ]
    },
    {
      "cell_type": "code",
      "execution_count": null,
      "metadata": {
        "id": "km94cR3dYgHz"
      },
      "outputs": [],
      "source": [
        "X = np.array([x for x in range(100)])\n",
        "X = X.reshape(-1, 1)\n",
        "y = 46 + 2 * X.flatten()"
      ]
    },
    {
      "cell_type": "code",
      "execution_count": null,
      "metadata": {
        "colab": {
          "base_uri": "https://localhost:8080/"
        },
        "collapsed": true,
        "id": "s-X7xdbqZWon",
        "outputId": "318b9e84-7613-44c1-bef4-8b62bd90bdc6"
      },
      "outputs": [
        {
          "data": {
            "text/plain": [
              "array([[ 0],\n",
              "       [ 1],\n",
              "       [ 2],\n",
              "       [ 3],\n",
              "       [ 4],\n",
              "       [ 5],\n",
              "       [ 6],\n",
              "       [ 7],\n",
              "       [ 8],\n",
              "       [ 9],\n",
              "       [10],\n",
              "       [11],\n",
              "       [12],\n",
              "       [13],\n",
              "       [14],\n",
              "       [15],\n",
              "       [16],\n",
              "       [17],\n",
              "       [18],\n",
              "       [19],\n",
              "       [20],\n",
              "       [21],\n",
              "       [22],\n",
              "       [23],\n",
              "       [24],\n",
              "       [25],\n",
              "       [26],\n",
              "       [27],\n",
              "       [28],\n",
              "       [29],\n",
              "       [30],\n",
              "       [31],\n",
              "       [32],\n",
              "       [33],\n",
              "       [34],\n",
              "       [35],\n",
              "       [36],\n",
              "       [37],\n",
              "       [38],\n",
              "       [39],\n",
              "       [40],\n",
              "       [41],\n",
              "       [42],\n",
              "       [43],\n",
              "       [44],\n",
              "       [45],\n",
              "       [46],\n",
              "       [47],\n",
              "       [48],\n",
              "       [49],\n",
              "       [50],\n",
              "       [51],\n",
              "       [52],\n",
              "       [53],\n",
              "       [54],\n",
              "       [55],\n",
              "       [56],\n",
              "       [57],\n",
              "       [58],\n",
              "       [59],\n",
              "       [60],\n",
              "       [61],\n",
              "       [62],\n",
              "       [63],\n",
              "       [64],\n",
              "       [65],\n",
              "       [66],\n",
              "       [67],\n",
              "       [68],\n",
              "       [69],\n",
              "       [70],\n",
              "       [71],\n",
              "       [72],\n",
              "       [73],\n",
              "       [74],\n",
              "       [75],\n",
              "       [76],\n",
              "       [77],\n",
              "       [78],\n",
              "       [79],\n",
              "       [80],\n",
              "       [81],\n",
              "       [82],\n",
              "       [83],\n",
              "       [84],\n",
              "       [85],\n",
              "       [86],\n",
              "       [87],\n",
              "       [88],\n",
              "       [89],\n",
              "       [90],\n",
              "       [91],\n",
              "       [92],\n",
              "       [93],\n",
              "       [94],\n",
              "       [95],\n",
              "       [96],\n",
              "       [97],\n",
              "       [98],\n",
              "       [99]])"
            ]
          },
          "execution_count": 4,
          "metadata": {},
          "output_type": "execute_result"
        }
      ],
      "source": [
        "X"
      ]
    },
    {
      "cell_type": "code",
      "execution_count": null,
      "metadata": {
        "colab": {
          "base_uri": "https://localhost:8080/"
        },
        "collapsed": true,
        "id": "hFzHgDsDZ7C0",
        "outputId": "62a4e252-decd-42af-b7de-d48a0ba1c895"
      },
      "outputs": [
        {
          "data": {
            "text/plain": [
              "array([ 46,  48,  50,  52,  54,  56,  58,  60,  62,  64,  66,  68,  70,\n",
              "        72,  74,  76,  78,  80,  82,  84,  86,  88,  90,  92,  94,  96,\n",
              "        98, 100, 102, 104, 106, 108, 110, 112, 114, 116, 118, 120, 122,\n",
              "       124, 126, 128, 130, 132, 134, 136, 138, 140, 142, 144, 146, 148,\n",
              "       150, 152, 154, 156, 158, 160, 162, 164, 166, 168, 170, 172, 174,\n",
              "       176, 178, 180, 182, 184, 186, 188, 190, 192, 194, 196, 198, 200,\n",
              "       202, 204, 206, 208, 210, 212, 214, 216, 218, 220, 222, 224, 226,\n",
              "       228, 230, 232, 234, 236, 238, 240, 242, 244])"
            ]
          },
          "execution_count": 7,
          "metadata": {},
          "output_type": "execute_result"
        }
      ],
      "source": [
        "y"
      ]
    },
    {
      "cell_type": "code",
      "execution_count": null,
      "metadata": {
        "colab": {
          "base_uri": "https://localhost:8080/",
          "height": 472
        },
        "collapsed": true,
        "id": "1T6O86-La1vD",
        "outputId": "5bb7a3ba-eb10-4c80-8bf9-0d6b1217c571"
      },
      "outputs": [
        {
          "data": {
            "image/png": "[encoded data removed]",
            "text/plain": [
              "<Figure size 640x480 with 1 Axes>"
            ]
          },
          "metadata": {},
          "output_type": "display_data"
        }
      ],
      "source": [
        "plt.scatter(X, y, label=\"Initial Data\")\n",
        "plt.title(\"Pre PyTorch\")\n",
        "plt.xlabel('X')\n",
        "plt.ylabel('y')\n",
        "plt.legend()\n",
        "plt.show()"
      ]
    },
    {
      "cell_type": "code",
      "execution_count": null,
      "metadata": {
        "id": "1qRw_nl2a1s_"
      },
      "outputs": [],
      "source": [
        "x_mean, x_std = X.mean(), X.std()\n",
        "X_normalized = (X - x_mean) / x_std\n",
        "X_tensor = torch.tensor(X_normalized, dtype=torch.float32)"
      ]
    },
    {
      "cell_type": "code",
      "execution_count": null,
      "metadata": {
        "colab": {
          "base_uri": "https://localhost:8080/"
        },
        "id": "EiEN0oo9a1qp",
        "outputId": "0a87bc63-6e24-453e-d447-b6c58babfe59"
      },
      "outputs": [
        {
          "name": "stdout",
          "output_type": "stream",
          "text": [
            "torch.Size([100, 1])\n"
          ]
        }
      ],
      "source": [
        "print(X_tensor.shape)"
      ]
    },
    {
      "cell_type": "code",
      "execution_count": null,
      "metadata": {
        "id": "8aG_oRkIa1lK"
      },
      "outputs": [],
      "source": [
        "y_mean, y_std = y.mean(), y.std()\n",
        "y_normalized = (y - y_mean) / y_std\n",
        "y_tensor = torch.tensor(y_normalized, dtype=torch.float32)"
      ]
    },
    {
      "cell_type": "code",
      "execution_count": null,
      "metadata": {
        "colab": {
          "base_uri": "https://localhost:8080/"
        },
        "collapsed": true,
        "id": "nT1-xdJoa1hz",
        "outputId": "0addb6cc-e0aa-4bf5-83e2-79ef7e1bf72b"
      },
      "outputs": [
        {
          "name": "stdout",
          "output_type": "stream",
          "text": [
            "torch.Size([100])\n"
          ]
        }
      ],
      "source": [
        "print(y_tensor.shape)"
      ]
    },
    {
      "cell_type": "code",
      "execution_count": null,
      "metadata": {
        "id": "Z5gcSne9a1Pl"
      },
      "outputs": [],
      "source": [
        "class LinearRegressionModel(nn.Module):\n",
        "  def __init__(self, in_features, out_features):\n",
        "    super().__init__()\n",
        "    self.linear = nn.Linear(in_features, out_features)\n",
        "\n",
        "  def forward(self, x):\n",
        "    return self.linear(x).squeeze(1) #returns one dimensional array of values"
      ]
    },
    {
      "cell_type": "code",
      "execution_count": null,
      "metadata": {
        "id": "2Qx-C_dbi5dO"
      },
      "outputs": [],
      "source": [
        "in_features = 1\n",
        "out_features = 1\n",
        "model = LinearRegressionModel(in_features, out_features)"
      ]
    },
    {
      "cell_type": "code",
      "execution_count": null,
      "metadata": {
        "id": "yUxm4DoRjGns"
      },
      "outputs": [],
      "source": [
        "criterion = nn.MSELoss()\n",
        "optimizer = optim.SGD(model.parameters(), lr=0.1)\n",
        "\n",
        "#parameter = parameter - lr * gradient"
      ]
    },
    {
      "cell_type": "code",
      "execution_count": null,
      "metadata": {
        "id": "PiFwKSV4jyHS"
      },
      "outputs": [],
      "source": [
        "num_epochs = 10"
      ]
    },
    {
      "cell_type": "code",
      "source": [
        "for epoch in range(num_epochs):\n",
        "\n",
        "  outputs = model(X_tensor)\n",
        "\n",
        "  loss = criterion(outputs, y_tensor) #(output=h(x) y_tensor=y): loss= 1/N * sum to N(h(x) - y)^2\n",
        "\n",
        "  optimizer.zero_grad()\n",
        "  loss.backward()\n",
        "  optimizer.step()\n",
        "\n",
        "  print(f'Epoch [{epoch + 1}/{num_epochs}], Loss: {loss.item():.2f}')\n"
      ],
      "metadata": {
        "colab": {
          "base_uri": "https://localhost:8080/"
        },
        "collapsed": true,
        "id": "sx8dv31wkSs-",
        "outputId": "5b76c979-c6a9-44d3-b065-6bafecffae51"
      },
      "execution_count": null,
      "outputs": [
        {
          "output_type": "stream",
          "name": "stdout",
          "text": [
            "Epoch [1/10], Loss: 0.00\n",
            "Epoch [2/10], Loss: 0.00\n",
            "Epoch [3/10], Loss: 0.00\n",
            "Epoch [4/10], Loss: 0.00\n",
            "Epoch [5/10], Loss: 0.00\n",
            "Epoch [6/10], Loss: 0.00\n",
            "Epoch [7/10], Loss: 0.00\n",
            "Epoch [8/10], Loss: 0.00\n",
            "Epoch [9/10], Loss: 0.00\n",
            "Epoch [10/10], Loss: 0.00\n"
          ]
        }
      ]
    },
    {
      "cell_type": "code",
      "source": [
        "new_x = 122\n",
        "\n",
        "new_x_normalized = (new_x - x_mean) / x_std\n",
        "\n",
        "new_x_tensor = torch.tensor(new_x_normalized, dtype=torch.float32).view(1, -1)\n",
        "\n",
        "model.eval()\n",
        "with torch.no_grad():\n",
        "  prediction_normalized = model(new_x_tensor)\n",
        "\n",
        "prediction_denormalized = prediction_normalized.item() * y_std + y_mean\n",
        "\n",
        "print(f'Predicted Value: {new_x}: {prediction_denormalized}')"
      ],
      "metadata": {
        "colab": {
          "base_uri": "https://localhost:8080/"
        },
        "id": "9dkk9_gipMsZ",
        "outputId": "574ce6ed-b2fd-4707-822e-cd0a66dbbba3"
      },
      "execution_count": null,
      "outputs": [
        {
          "output_type": "stream",
          "name": "stdout",
          "text": [
            "Predicted Value: 122: 289.97581870671297\n"
          ]
        }
      ]
    },
    {
      "cell_type": "code",
      "source": [
        "plt.scatter(X, y, label=\"Initial Data\")\n",
        "\n",
        "fit_line = model(X_tensor).detach().numpy() * y_std + y_mean\n",
        "plt.plot(X, fit_line, 'r', label=\"PyTorch Line\")\n",
        "\n",
        "plt.legend()\n",
        "plt.xlabel('X')\n",
        "plt.ylabel('y')\n",
        "plt.title(\"PyTorch with Predictions\")\n",
        "plt.show()"
      ],
      "metadata": {
        "colab": {
          "base_uri": "https://localhost:8080/",
          "height": 472
        },
        "id": "lFV4wdHusHIm",
        "outputId": "d88b7415-9bcc-42ca-f49b-08f0f0b20d28"
      },
      "execution_count": null,
      "outputs": [
        {
          "output_type": "display_data",
          "data": {
            "text/plain": [
              "<Figure size 640x480 with 1 Axes>"
            ],
            "image/png": "[encoded data removed]"
          },
          "metadata": {}
        }
      ]
    }
  ],
  "metadata": {
    "colab": {
      "provenance": [],
      "authorship_tag": "ABX9TyO5utVZZnZOzVQfxKWEiouM",
      "include_colab_link": true
    },
    "kernelspec": {
      "display_name": "Python 3",
      "name": "python3"
    },
    "language_info": {
      "name": "python"
    }
  },
  "nbformat": 4,
  "nbformat_minor": 0
}