{
  "nbformat": 4,
  "nbformat_minor": 0,
  "metadata": {
    "colab": {
      "provenance": [],
      "authorship_tag": "ABX9TyPLqFXJTsbXx6PdQD5j4JMd",
      "include_colab_link": true
    },
    "kernelspec": {
      "name": "python3",
      "display_name": "Python 3"
    },
    "language_info": {
      "name": "python"
    }
  },
  "cells": [
    {
      "cell_type": "markdown",
      "metadata": {
        "id": "view-in-github",
        "colab_type": "text"
      },
      "source": [
        "<a href=\"https://colab.research.google.com/github/AJ112103/ML-implementations/blob/main/cross_entropy.ipynb\" target=\"_parent\"><img src=\"https://colab.research.google.com/assets/colab-badge.svg\" alt=\"Open In Colab\"/></a>"
      ]
    },
    {
      "cell_type": "code",
      "execution_count": 2,
      "metadata": {
        "id": "SCU9RKWMMVzp"
      },
      "outputs": [],
      "source": [
        "import numpy as np\n",
        "import matplotlib.pyplot as plt\n",
        "import torch\n"
      ]
    },
    {
      "cell_type": "code",
      "source": [
        "p = np.array([5, 3, 6, 2, 7, 1])\n",
        "q1 = p\n",
        "q2 = np.array([6, 3, 4, 1, 8, 2])\n",
        "q3 = np.array([4, 4, 5, 3, 6, 2])"
      ],
      "metadata": {
        "id": "Nij8vt6ZP02u"
      },
      "execution_count": 7,
      "outputs": []
    },
    {
      "cell_type": "code",
      "source": [
        "-sum(p * np.log(q1))"
      ],
      "metadata": {
        "colab": {
          "base_uri": "https://localhost:8080/"
        },
        "id": "1qynbKzGSWb_",
        "outputId": "3d398574-4795-4063-cffd-3819a54dcb88"
      },
      "execution_count": 4,
      "outputs": [
        {
          "output_type": "execute_result",
          "data": {
            "text/plain": [
              "-37.101248648050245"
            ]
          },
          "metadata": {},
          "execution_count": 4
        }
      ]
    },
    {
      "cell_type": "code",
      "source": [
        "-sum(p * np.log(q3))"
      ],
      "metadata": {
        "colab": {
          "base_uri": "https://localhost:8080/"
        },
        "id": "mONKHTnLSW6Y",
        "outputId": "1f41b85f-36d4-4227-d57c-e9dff8aa89da"
      },
      "execution_count": 6,
      "outputs": [
        {
          "output_type": "execute_result",
          "data": {
            "text/plain": [
              "-36.179670406056275"
            ]
          },
          "metadata": {},
          "execution_count": 6
        }
      ]
    },
    {
      "cell_type": "code",
      "source": [
        "p = np.zeros(10, dtype=int); p[4] = 1 #initializing a 1 hot encoded vector if length 10 with the correct class at index 4\n",
        "q = np.random.rand(10) #initialising a vector of length 10 with values from [0, 1)\n",
        "q = q/sum(q) #normalising it to represent a probability mass function where values sum to 1"
      ],
      "metadata": {
        "id": "HF15aZlUSW77"
      },
      "execution_count": 9,
      "outputs": []
    },
    {
      "cell_type": "code",
      "source": [
        "p"
      ],
      "metadata": {
        "colab": {
          "base_uri": "https://localhost:8080/"
        },
        "id": "AmBzunc6htIL",
        "outputId": "146b2b8e-b60e-4567-938d-64788a85f254"
      },
      "execution_count": 10,
      "outputs": [
        {
          "output_type": "execute_result",
          "data": {
            "text/plain": [
              "array([0, 0, 0, 0, 1, 0, 0, 0, 0, 0])"
            ]
          },
          "metadata": {},
          "execution_count": 10
        }
      ]
    },
    {
      "cell_type": "code",
      "source": [
        "q"
      ],
      "metadata": {
        "colab": {
          "base_uri": "https://localhost:8080/"
        },
        "id": "cZKopiZrh0xY",
        "outputId": "ee3b5581-bd70-4d40-99d7-7355cf390d15"
      },
      "execution_count": 11,
      "outputs": [
        {
          "output_type": "execute_result",
          "data": {
            "text/plain": [
              "array([0.15724562, 0.14498029, 0.06904939, 0.12394221, 0.10045654,\n",
              "       0.10450193, 0.0860722 , 0.10975971, 0.05089389, 0.05309823])"
            ]
          },
          "metadata": {},
          "execution_count": 11
        }
      ]
    },
    {
      "cell_type": "code",
      "source": [
        "H = -np.log(q[p > 0]) #Only need the value of q at the index where p != 0\n",
        "H"
      ],
      "metadata": {
        "colab": {
          "base_uri": "https://localhost:8080/"
        },
        "id": "4134dUolh3Ky",
        "outputId": "0aaaf9eb-b4b8-4303-a625-76e4eb9b2a2f"
      },
      "execution_count": 13,
      "outputs": [
        {
          "output_type": "execute_result",
          "data": {
            "text/plain": [
              "array([2.29803013])"
            ]
          },
          "metadata": {},
          "execution_count": 13
        }
      ]
    },
    {
      "cell_type": "code",
      "source": [
        "q[4] = 20 #increase probbaility since this is the correct class\n",
        "q = q/sum(q) #renormalize\n",
        "q"
      ],
      "metadata": {
        "colab": {
          "base_uri": "https://localhost:8080/"
        },
        "id": "X6geuC4gjhtP",
        "outputId": "e9810a64-5d78-4128-e830-e66d38ce1cec"
      },
      "execution_count": 18,
      "outputs": [
        {
          "output_type": "execute_result",
          "data": {
            "text/plain": [
              "array([0.00752388, 0.00693701, 0.00330387, 0.00593038, 0.9569587 ,\n",
              "       0.0050002 , 0.00411838, 0.00525178, 0.00243517, 0.00254064])"
            ]
          },
          "metadata": {},
          "execution_count": 18
        }
      ]
    },
    {
      "cell_type": "markdown",
      "source": [
        "The correct class now has a probability of roughly 95%"
      ],
      "metadata": {
        "id": "s-yt5ffSkAFc"
      }
    },
    {
      "cell_type": "code",
      "source": [
        "H = -np.log(q[p>0])\n",
        "H"
      ],
      "metadata": {
        "colab": {
          "base_uri": "https://localhost:8080/"
        },
        "id": "lECyKK3TiCTL",
        "outputId": "b2eddba4-c61f-4be5-eb1d-dd7e5249d9d4"
      },
      "execution_count": 19,
      "outputs": [
        {
          "output_type": "execute_result",
          "data": {
            "text/plain": [
              "array([0.04399504])"
            ]
          },
          "metadata": {},
          "execution_count": 19
        }
      ]
    },
    {
      "cell_type": "markdown",
      "source": [
        "Cross entropy loss function is minimized since the predicted probability of the correct class in increased."
      ],
      "metadata": {
        "id": "m1-xCUzyjzXq"
      }
    },
    {
      "cell_type": "markdown",
      "source": [
        "# Multiple Classification Problems"
      ],
      "metadata": {
        "id": "vkIwypo10cot"
      }
    },
    {
      "cell_type": "markdown",
      "source": [
        "For instance if we are given multiple images which we need to classify into 'n' different classes"
      ],
      "metadata": {
        "id": "6pyYz9ZE0nVp"
      }
    },
    {
      "cell_type": "code",
      "source": [
        "p = np.zeros((5, 8), dtype=int)\n",
        "p[0][3] = 1 #in the 1st image, the correct class is at the 3rd index\n",
        "p[1][6] = 1 #in the 2nd image, the correct class is at the 6th index\n",
        "p[2][2] = 1 #...\n",
        "p[3][7] = 1 #...\n",
        "p[4][0] = 1 #...\n",
        "p"
      ],
      "metadata": {
        "colab": {
          "base_uri": "https://localhost:8080/"
        },
        "id": "VtrFhw5q0xp2",
        "outputId": "c93e48e6-e8df-46db-f8ce-dcd98c3683f9"
      },
      "execution_count": 21,
      "outputs": [
        {
          "output_type": "execute_result",
          "data": {
            "text/plain": [
              "array([[0, 0, 0, 1, 0, 0, 0, 0],\n",
              "       [0, 0, 0, 0, 0, 0, 1, 0],\n",
              "       [0, 0, 1, 0, 0, 0, 0, 0],\n",
              "       [0, 0, 0, 0, 0, 0, 0, 1],\n",
              "       [1, 0, 0, 0, 0, 0, 0, 0]])"
            ]
          },
          "metadata": {},
          "execution_count": 21
        }
      ]
    },
    {
      "cell_type": "markdown",
      "source": [
        "Creating the predicted probability array of qs"
      ],
      "metadata": {
        "id": "OAJO0bfI1-D8"
      }
    },
    {
      "cell_type": "code",
      "source": [
        "q = np.random.rand(40).reshape(5, 8)\n",
        "np.sum(q, axis=1).shape #this returns a vector with shape (5,) which is the sum of all vectors acroos the 1st axis i.e. the 8 entries in each vector"
      ],
      "metadata": {
        "colab": {
          "base_uri": "https://localhost:8080/"
        },
        "id": "DLDjQXJY1Wrg",
        "outputId": "7a8a8954-f41a-450f-f49d-89c9f9d17f4e"
      },
      "execution_count": 22,
      "outputs": [
        {
          "output_type": "execute_result",
          "data": {
            "text/plain": [
              "(5,)"
            ]
          },
          "metadata": {},
          "execution_count": 22
        }
      ]
    },
    {
      "cell_type": "code",
      "source": [
        "q = q/np.expand_dims(np.sum(q, axis=1), axis=1) #this returns normalized probability mass functions for each image with shape (5, 1) making it compatible with the Hs"
      ],
      "metadata": {
        "id": "KHSLl32w2r_p"
      },
      "execution_count": 23,
      "outputs": []
    },
    {
      "cell_type": "code",
      "source": [
        "Hs = -np.log(q[p>0])"
      ],
      "metadata": {
        "id": "XJ1_tJdz6n1G"
      },
      "execution_count": 24,
      "outputs": []
    },
    {
      "cell_type": "code",
      "source": [
        "Hs"
      ],
      "metadata": {
        "colab": {
          "base_uri": "https://localhost:8080/"
        },
        "id": "D-KeGqUw6r3O",
        "outputId": "81ecda14-5d44-4765-f187-ac22da59c022"
      },
      "execution_count": 25,
      "outputs": [
        {
          "output_type": "execute_result",
          "data": {
            "text/plain": [
              "array([1.74518207, 2.69514302, 2.35518434, 1.27760235, 2.7506281 ])"
            ]
          },
          "metadata": {},
          "execution_count": 25
        }
      ]
    },
    {
      "cell_type": "code",
      "source": [
        "L = sum(Hs)\n",
        "L"
      ],
      "metadata": {
        "colab": {
          "base_uri": "https://localhost:8080/"
        },
        "id": "Mtf10owt6sw6",
        "outputId": "8d2bcfb2-1c8a-4068-b144-6e8c67e97b0f"
      },
      "execution_count": 29,
      "outputs": [
        {
          "output_type": "execute_result",
          "data": {
            "text/plain": [
              "10.82373987359877"
            ]
          },
          "metadata": {},
          "execution_count": 29
        }
      ]
    },
    {
      "cell_type": "markdown",
      "source": [
        "# How to Obtain the '*q* ' Vector in the Context of Machine Learning"
      ],
      "metadata": {
        "id": "TpsVaZt_UeEu"
      }
    },
    {
      "cell_type": "code",
      "source": [
        "yhat = 20*np.random.rand(40).reshape(5, 8) **2 #squaring to make all entries in the 5x8 matrix positive\n",
        "yhat"
      ],
      "metadata": {
        "colab": {
          "base_uri": "https://localhost:8080/"
        },
        "collapsed": true,
        "id": "LVB0a0fOU2ze",
        "outputId": "0dd15d0d-a930-400a-9e69-a6afa25cc19a"
      },
      "execution_count": 31,
      "outputs": [
        {
          "output_type": "execute_result",
          "data": {
            "text/plain": [
              "array([[1.17626533e+01, 9.44075096e+00, 1.30804109e+01, 4.18211020e+00,\n",
              "        1.01891257e+00, 5.03183375e+00, 9.18221738e+00, 2.39974790e+00],\n",
              "       [7.04282107e+00, 4.64067357e-01, 7.50966112e-01, 6.22899213e+00,\n",
              "        1.13053012e+01, 7.86261316e+00, 9.58316412e-04, 1.24594130e+01],\n",
              "       [2.02608073e+00, 1.41412079e+01, 7.14977539e-01, 4.17095124e+00,\n",
              "        9.47650388e+00, 1.63912206e-02, 5.54904397e+00, 3.38610459e-01],\n",
              "       [7.81287328e+00, 2.55351133e-01, 1.33195328e+00, 8.53103333e-01,\n",
              "        3.26752762e+00, 2.42869782e-03, 8.79534527e+00, 2.46200856e-01],\n",
              "       [1.75799798e+01, 1.32747949e+01, 1.65576967e+00, 5.56776156e-01,\n",
              "        1.67211378e+01, 1.39583272e-01, 8.05492288e-02, 1.14607688e+01]])"
            ]
          },
          "metadata": {},
          "execution_count": 31
        }
      ]
    },
    {
      "cell_type": "code",
      "source": [
        "yhat.shape #5 different images and 8 different classes per image"
      ],
      "metadata": {
        "colab": {
          "base_uri": "https://localhost:8080/"
        },
        "id": "p3VQu5A7thu4",
        "outputId": "5dc41bc9-15a4-4389-fe3c-3594f0d01fe6"
      },
      "execution_count": 32,
      "outputs": [
        {
          "output_type": "execute_result",
          "data": {
            "text/plain": [
              "(5, 8)"
            ]
          },
          "metadata": {},
          "execution_count": 32
        }
      ]
    },
    {
      "cell_type": "code",
      "source": [
        "q = np.exp(yhat)\n",
        "q = q/np.expand_dims(np.sum(q, axis=1), axis=1) #This is how the vector of predicted probabilities is defined in PyTorch"
      ],
      "metadata": {
        "id": "cqYtYztZtyh3"
      },
      "execution_count": 33,
      "outputs": []
    },
    {
      "cell_type": "code",
      "source": [
        "q"
      ],
      "metadata": {
        "colab": {
          "base_uri": "https://localhost:8080/"
        },
        "collapsed": true,
        "id": "h-FH2DP1uJcW",
        "outputId": "39f0730c-29b6-4899-f10f-1a94a5a5aa21"
      },
      "execution_count": 34,
      "outputs": [
        {
          "output_type": "execute_result",
          "data": {
            "text/plain": [
              "array([[2.03637970e-01, 1.99742003e-02, 7.60595247e-01, 1.03913204e-04,\n",
              "        4.39452016e-06, 2.43052998e-04, 1.54237399e-02, 1.74823826e-05],\n",
              "       [3.33540412e-03, 4.63481094e-06, 6.17490912e-06, 1.47811098e-03,\n",
              "        2.36766383e-01, 7.57146012e-03, 2.91679779e-06, 7.50834916e-01],\n",
              "       [5.42363726e-06, 9.90429421e-01, 1.46179259e-06, 4.63229344e-05,\n",
              "        9.33186185e-03, 7.26931642e-07, 1.83778259e-04, 1.00330184e-06],\n",
              "       [2.71326672e-01, 1.41677969e-04, 4.15781054e-04, 2.57574465e-04,\n",
              "        2.88054026e-03, 1.10016926e-04, 7.24727350e-01, 1.40387490e-04],\n",
              "       [6.94757484e-01, 9.37810703e-03, 8.43405939e-08, 2.81028157e-08,\n",
              "        2.94335661e-01, 1.85167715e-08, 1.74552916e-08, 1.52859935e-03]])"
            ]
          },
          "metadata": {},
          "execution_count": 34
        }
      ]
    },
    {
      "cell_type": "code",
      "source": [
        "np.sum(q, axis=1) #is normalized now"
      ],
      "metadata": {
        "colab": {
          "base_uri": "https://localhost:8080/"
        },
        "id": "5Y_Y_pH1vcGQ",
        "outputId": "fe3bc128-1b88-4cf1-b7c5-693650bd89f9"
      },
      "execution_count": 35,
      "outputs": [
        {
          "output_type": "execute_result",
          "data": {
            "text/plain": [
              "array([1., 1., 1., 1., 1.])"
            ]
          },
          "metadata": {},
          "execution_count": 35
        }
      ]
    },
    {
      "cell_type": "code",
      "source": [
        "c_tilda = np.where(p)\n",
        "c_tilda #gets all the indices where p=1 for the images"
      ],
      "metadata": {
        "colab": {
          "base_uri": "https://localhost:8080/"
        },
        "id": "KdvTCfvduK1b",
        "outputId": "30429069-413e-4bec-ad49-f02e1da2e372"
      },
      "execution_count": 36,
      "outputs": [
        {
          "output_type": "execute_result",
          "data": {
            "text/plain": [
              "(array([0, 1, 2, 3, 4]), array([3, 6, 2, 7, 0]))"
            ]
          },
          "metadata": {},
          "execution_count": 36
        }
      ]
    },
    {
      "cell_type": "code",
      "source": [
        "q[c_tilda]"
      ],
      "metadata": {
        "colab": {
          "base_uri": "https://localhost:8080/"
        },
        "id": "4p9xL77cyO1Y",
        "outputId": "d33b18eb-22cf-43a6-d4d2-bee3b5f60e4a"
      },
      "execution_count": 39,
      "outputs": [
        {
          "output_type": "execute_result",
          "data": {
            "text/plain": [
              "array([1.03913204e-04, 2.91679779e-06, 1.46179259e-06, 1.40387490e-04,\n",
              "       6.94757484e-01])"
            ]
          },
          "metadata": {},
          "execution_count": 39
        }
      ]
    },
    {
      "cell_type": "code",
      "source": [
        "Hs = -np.log(q[c_tilda])\n",
        "L = sum(Hs)"
      ],
      "metadata": {
        "id": "x5a4ieFtv6_t"
      },
      "execution_count": 37,
      "outputs": []
    },
    {
      "cell_type": "code",
      "source": [
        "L"
      ],
      "metadata": {
        "colab": {
          "base_uri": "https://localhost:8080/"
        },
        "id": "8fmbtzElyKqn",
        "outputId": "168c776a-65aa-449b-ec96-3e7f40feb8a5"
      },
      "execution_count": 38,
      "outputs": [
        {
          "output_type": "execute_result",
          "data": {
            "text/plain": [
              "44.588122460619815"
            ]
          },
          "metadata": {},
          "execution_count": 38
        }
      ]
    },
    {
      "cell_type": "markdown",
      "source": [
        "# In PyTorch this is equivalent to:"
      ],
      "metadata": {
        "id": "H4TWre3ZyXpa"
      }
    },
    {
      "cell_type": "markdown",
      "source": [
        "Creating the loss function"
      ],
      "metadata": {
        "id": "kOZ1_n7yymNs"
      }
    },
    {
      "cell_type": "code",
      "source": [
        "L = torch.nn.CrossEntropyLoss(reduction = 'sum')"
      ],
      "metadata": {
        "id": "wveEteEkyckt"
      },
      "execution_count": 41,
      "outputs": []
    },
    {
      "cell_type": "markdown",
      "source": [
        "Evaluating the Loss with the data above:"
      ],
      "metadata": {
        "id": "_BB__wqwysEC"
      }
    },
    {
      "cell_type": "code",
      "source": [
        "L(torch.tensor(yhat), torch.tensor(p, dtype=torch.float))"
      ],
      "metadata": {
        "colab": {
          "base_uri": "https://localhost:8080/"
        },
        "id": "vXpjbJ-hyoCw",
        "outputId": "83f90012-1013-4130-8def-9c74290a0dc0"
      },
      "execution_count": 42,
      "outputs": [
        {
          "output_type": "execute_result",
          "data": {
            "text/plain": [
              "tensor(44.5881, dtype=torch.float64)"
            ]
          },
          "metadata": {},
          "execution_count": 42
        }
      ]
    },
    {
      "cell_type": "markdown",
      "source": [
        "We get the exact same value as above"
      ],
      "metadata": {
        "id": "Kttkf37XzCM1"
      }
    },
    {
      "cell_type": "code",
      "source": [],
      "metadata": {
        "id": "vSePC8A7y8AK"
      },
      "execution_count": null,
      "outputs": []
    }
  ]
}